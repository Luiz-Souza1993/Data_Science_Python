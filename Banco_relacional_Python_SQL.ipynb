{
 "cells": [
  {
   "cell_type": "markdown",
   "id": "5b2484ca",
   "metadata": {},
   "source": [
    "Analálise de dados com linguagem Python |\n",
    "Projeto  1 :\n",
    "Banco Relacional, Python e SQL"
   ]
  },
  {
   "cell_type": "code",
   "execution_count": 10,
   "id": "475a78a2",
   "metadata": {},
   "outputs": [
    {
     "name": "stdout",
     "output_type": "stream",
     "text": [
      "3.9.13\n"
     ]
    }
   ],
   "source": [
    "#versão do python\n",
    "from platform import python_version\n",
    "print(python_version())"
   ]
  },
  {
   "cell_type": "code",
   "execution_count": 12,
   "id": "76440d4e",
   "metadata": {},
   "outputs": [],
   "source": [
    "#instala o pacote watermark que será utlizado para gravar as versões de outros pacotes \n",
    "#utilizados neste notebook\n",
    "!pip install -q -U watermark"
   ]
  },
  {
   "cell_type": "code",
   "execution_count": 15,
   "id": "961754d0",
   "metadata": {},
   "outputs": [],
   "source": [
    "#instalando o pacote iPython-sql para utilizar comandos sql dentro do notebook\n",
    "!pip install -q ipython-sql"
   ]
  },
  {
   "cell_type": "code",
   "execution_count": 14,
   "id": "b792c0d9",
   "metadata": {},
   "outputs": [],
   "source": [
    "import pandas as pd\n",
    "import sqlite3"
   ]
  },
  {
   "cell_type": "markdown",
   "id": "6e3078f5",
   "metadata": {},
   "source": [
    "Banco Relacional, Python e SQL"
   ]
  },
  {
   "cell_type": "code",
   "execution_count": 16,
   "id": "8f3d9ceb",
   "metadata": {},
   "outputs": [],
   "source": [
    "#gerando um datafram\n",
    "df = pd.DataFrame({'nome': ['Siri', 'Alexa', 'Cortana'],\n",
    "                   'idade': [28, 47, 18],\n",
    "                   'cargo': ['Analista de dados', 'Cientista de dados', 'Engenheiro de ados']})"
   ]
  },
  {
   "cell_type": "code",
   "execution_count": 17,
   "id": "6d433c58",
   "metadata": {},
   "outputs": [
    {
     "data": {
      "text/html": [
       "<div>\n",
       "<style scoped>\n",
       "    .dataframe tbody tr th:only-of-type {\n",
       "        vertical-align: middle;\n",
       "    }\n",
       "\n",
       "    .dataframe tbody tr th {\n",
       "        vertical-align: top;\n",
       "    }\n",
       "\n",
       "    .dataframe thead th {\n",
       "        text-align: right;\n",
       "    }\n",
       "</style>\n",
       "<table border=\"1\" class=\"dataframe\">\n",
       "  <thead>\n",
       "    <tr style=\"text-align: right;\">\n",
       "      <th></th>\n",
       "      <th>nome</th>\n",
       "      <th>idade</th>\n",
       "      <th>cargo</th>\n",
       "    </tr>\n",
       "  </thead>\n",
       "  <tbody>\n",
       "    <tr>\n",
       "      <th>0</th>\n",
       "      <td>Siri</td>\n",
       "      <td>28</td>\n",
       "      <td>Analista de dados</td>\n",
       "    </tr>\n",
       "    <tr>\n",
       "      <th>1</th>\n",
       "      <td>Alexa</td>\n",
       "      <td>47</td>\n",
       "      <td>Cientista de dados</td>\n",
       "    </tr>\n",
       "    <tr>\n",
       "      <th>2</th>\n",
       "      <td>Cortana</td>\n",
       "      <td>18</td>\n",
       "      <td>Engenheiro de ados</td>\n",
       "    </tr>\n",
       "  </tbody>\n",
       "</table>\n",
       "</div>"
      ],
      "text/plain": [
       "      nome  idade               cargo\n",
       "0     Siri     28   Analista de dados\n",
       "1    Alexa     47  Cientista de dados\n",
       "2  Cortana     18  Engenheiro de ados"
      ]
     },
     "execution_count": 17,
     "metadata": {},
     "output_type": "execute_result"
    }
   ],
   "source": [
    "df.head(3)"
   ]
  },
  {
   "cell_type": "code",
   "execution_count": 27,
   "id": "b5eac8b5",
   "metadata": {},
   "outputs": [],
   "source": [
    "#criando conexão com o banco SQlite\n",
    "cnn = sqlite3.connect('projeto1_analise_de_dados_pyton/database/dbprojeto1.db')"
   ]
  },
  {
   "cell_type": "code",
   "execution_count": 28,
   "id": "43defca2",
   "metadata": {},
   "outputs": [
    {
     "data": {
      "text/plain": [
       "3"
      ]
     },
     "execution_count": 28,
     "metadata": {},
     "output_type": "execute_result"
    }
   ],
   "source": [
    "#insere o dataframe dentro do banco SQlite\n",
    "df.to_sql('funcionarios', cnn)"
   ]
  },
  {
   "cell_type": "code",
   "execution_count": 29,
   "id": "55620307",
   "metadata": {},
   "outputs": [],
   "source": [
    "# Carregando a extensão SQL do iPython-sql para gerar consultas sql dentro do notebook\n",
    "%load_ext sql"
   ]
  },
  {
   "cell_type": "code",
   "execution_count": 30,
   "id": "486bc0a2",
   "metadata": {},
   "outputs": [],
   "source": [
    "# Definindo o banco de dados\n",
    "%sql sqlite:///projeto1_analise_de_dados_pyton/database/dbprojeto1.db"
   ]
  },
  {
   "cell_type": "markdown",
   "id": "e8bac10e",
   "metadata": {},
   "source": [
    "Agora podemos executar consultas SQL dentro do Jupyter Notebook"
   ]
  },
  {
   "cell_type": "code",
   "execution_count": 31,
   "id": "1891c594",
   "metadata": {},
   "outputs": [
    {
     "name": "stdout",
     "output_type": "stream",
     "text": [
      " * sqlite:///projeto1_analise_de_dados_pyton/database/dbprojeto1.db\n",
      "Done.\n"
     ]
    },
    {
     "data": {
      "text/html": [
       "<table>\n",
       "    <tr>\n",
       "        <th>index</th>\n",
       "        <th>nome</th>\n",
       "        <th>idade</th>\n",
       "        <th>cargo</th>\n",
       "    </tr>\n",
       "    <tr>\n",
       "        <td>0</td>\n",
       "        <td>Siri</td>\n",
       "        <td>28</td>\n",
       "        <td>Analista de dados</td>\n",
       "    </tr>\n",
       "    <tr>\n",
       "        <td>1</td>\n",
       "        <td>Alexa</td>\n",
       "        <td>47</td>\n",
       "        <td>Cientista de dados</td>\n",
       "    </tr>\n",
       "    <tr>\n",
       "        <td>2</td>\n",
       "        <td>Cortana</td>\n",
       "        <td>18</td>\n",
       "        <td>Engenheiro de ados</td>\n",
       "    </tr>\n",
       "</table>"
      ],
      "text/plain": [
       "[(0, 'Siri', 28, 'Analista de dados'),\n",
       " (1, 'Alexa', 47, 'Cientista de dados'),\n",
       " (2, 'Cortana', 18, 'Engenheiro de ados')]"
      ]
     },
     "execution_count": 31,
     "metadata": {},
     "output_type": "execute_result"
    }
   ],
   "source": [
    "%%sql\n",
    "select * from funcionarios"
   ]
  },
  {
   "cell_type": "code",
   "execution_count": 32,
   "id": "7cc3a68b",
   "metadata": {},
   "outputs": [
    {
     "name": "stdout",
     "output_type": "stream",
     "text": [
      " * sqlite:///projeto1_analise_de_dados_pyton/database/dbprojeto1.db\n",
      "Done.\n"
     ]
    },
    {
     "data": {
      "text/html": [
       "<table>\n",
       "    <tr>\n",
       "        <th>count(*)</th>\n",
       "    </tr>\n",
       "    <tr>\n",
       "        <td>3</td>\n",
       "    </tr>\n",
       "</table>"
      ],
      "text/plain": [
       "[(3,)]"
      ]
     },
     "execution_count": 32,
     "metadata": {},
     "output_type": "execute_result"
    }
   ],
   "source": [
    "%%sql\n",
    "select count(*) from funcionarios"
   ]
  },
  {
   "cell_type": "code",
   "execution_count": 33,
   "id": "10786721",
   "metadata": {},
   "outputs": [
    {
     "name": "stdout",
     "output_type": "stream",
     "text": [
      " * sqlite:///projeto1_analise_de_dados_pyton/database/dbprojeto1.db\n",
      "Done.\n"
     ]
    },
    {
     "data": {
      "text/html": [
       "<table>\n",
       "    <tr>\n",
       "        <th>idade_media</th>\n",
       "    </tr>\n",
       "    <tr>\n",
       "        <td>31.0</td>\n",
       "    </tr>\n",
       "</table>"
      ],
      "text/plain": [
       "[(31.0,)]"
      ]
     },
     "execution_count": 33,
     "metadata": {},
     "output_type": "execute_result"
    }
   ],
   "source": [
    "%%sql\n",
    "select avg(idade) as 'idade_media' from funcionarios"
   ]
  },
  {
   "cell_type": "markdown",
   "id": "8403a8f0",
   "metadata": {},
   "source": [
    "DESAFIO PYTHON E SQL: Possuimos um arquivo com dados de pacientes que tem ou não diabetes. Precisamos gerar uma amosta de dados com os pacientes com mais de 50 anos e para cada um deles indicar em uma nova coluna se o paciten está normal (BMI menor que 30) ou obeso (BMI maior ou igual a 30). Então devemos gerar um novo arquivo CSV com os dados finais."
   ]
  },
  {
   "cell_type": "code",
   "execution_count": 34,
   "id": "cbdbbd61",
   "metadata": {},
   "outputs": [],
   "source": [
    "df = pd.read_csv('projeto1_analise_de_dados_pyton/dataset/diabetes.csv')"
   ]
  },
  {
   "cell_type": "code",
   "execution_count": 35,
   "id": "c4a149dc",
   "metadata": {},
   "outputs": [
    {
     "data": {
      "text/html": [
       "<div>\n",
       "<style scoped>\n",
       "    .dataframe tbody tr th:only-of-type {\n",
       "        vertical-align: middle;\n",
       "    }\n",
       "\n",
       "    .dataframe tbody tr th {\n",
       "        vertical-align: top;\n",
       "    }\n",
       "\n",
       "    .dataframe thead th {\n",
       "        text-align: right;\n",
       "    }\n",
       "</style>\n",
       "<table border=\"1\" class=\"dataframe\">\n",
       "  <thead>\n",
       "    <tr style=\"text-align: right;\">\n",
       "      <th></th>\n",
       "      <th>Pregnancies</th>\n",
       "      <th>Glucose</th>\n",
       "      <th>BloodPressure</th>\n",
       "      <th>SkinThickness</th>\n",
       "      <th>Insulin</th>\n",
       "      <th>BMI</th>\n",
       "      <th>DiabetesPedigreeFunction</th>\n",
       "      <th>Age</th>\n",
       "      <th>Outcome</th>\n",
       "    </tr>\n",
       "  </thead>\n",
       "  <tbody>\n",
       "    <tr>\n",
       "      <th>0</th>\n",
       "      <td>6</td>\n",
       "      <td>148</td>\n",
       "      <td>72</td>\n",
       "      <td>35</td>\n",
       "      <td>0</td>\n",
       "      <td>33.6</td>\n",
       "      <td>0.627</td>\n",
       "      <td>50</td>\n",
       "      <td>1</td>\n",
       "    </tr>\n",
       "    <tr>\n",
       "      <th>1</th>\n",
       "      <td>1</td>\n",
       "      <td>85</td>\n",
       "      <td>66</td>\n",
       "      <td>29</td>\n",
       "      <td>0</td>\n",
       "      <td>26.6</td>\n",
       "      <td>0.351</td>\n",
       "      <td>31</td>\n",
       "      <td>0</td>\n",
       "    </tr>\n",
       "    <tr>\n",
       "      <th>2</th>\n",
       "      <td>8</td>\n",
       "      <td>183</td>\n",
       "      <td>64</td>\n",
       "      <td>0</td>\n",
       "      <td>0</td>\n",
       "      <td>23.3</td>\n",
       "      <td>0.672</td>\n",
       "      <td>32</td>\n",
       "      <td>1</td>\n",
       "    </tr>\n",
       "  </tbody>\n",
       "</table>\n",
       "</div>"
      ],
      "text/plain": [
       "   Pregnancies  Glucose  BloodPressure  SkinThickness  Insulin   BMI  \\\n",
       "0            6      148             72             35        0  33.6   \n",
       "1            1       85             66             29        0  26.6   \n",
       "2            8      183             64              0        0  23.3   \n",
       "\n",
       "   DiabetesPedigreeFunction  Age  Outcome  \n",
       "0                     0.627   50        1  \n",
       "1                     0.351   31        0  \n",
       "2                     0.672   32        1  "
      ]
     },
     "execution_count": 35,
     "metadata": {},
     "output_type": "execute_result"
    }
   ],
   "source": [
    "df.head(3)"
   ]
  },
  {
   "cell_type": "code",
   "execution_count": 36,
   "id": "58b90ea2",
   "metadata": {},
   "outputs": [
    {
     "data": {
      "text/plain": [
       "(768, 9)"
      ]
     },
     "execution_count": 36,
     "metadata": {},
     "output_type": "execute_result"
    }
   ],
   "source": [
    "df.shape"
   ]
  },
  {
   "cell_type": "code",
   "execution_count": 37,
   "id": "48a41fb2",
   "metadata": {},
   "outputs": [
    {
     "data": {
      "text/plain": [
       "768"
      ]
     },
     "execution_count": 37,
     "metadata": {},
     "output_type": "execute_result"
    }
   ],
   "source": [
    "#inserindo dentro do banco de dados\n",
    "df.to_sql('diabetes', cnn)"
   ]
  },
  {
   "cell_type": "code",
   "execution_count": 38,
   "id": "39fa94a8",
   "metadata": {},
   "outputs": [
    {
     "name": "stdout",
     "output_type": "stream",
     "text": [
      " * sqlite:///projeto1_analise_de_dados_pyton/database/dbprojeto1.db\n",
      "Done.\n"
     ]
    },
    {
     "data": {
      "text/html": [
       "<table>\n",
       "    <tr>\n",
       "        <th>count(*)</th>\n",
       "    </tr>\n",
       "    <tr>\n",
       "        <td>768</td>\n",
       "    </tr>\n",
       "</table>"
      ],
      "text/plain": [
       "[(768,)]"
      ]
     },
     "execution_count": 38,
     "metadata": {},
     "output_type": "execute_result"
    }
   ],
   "source": [
    "%%sql\n",
    "select count(*) from diabetes"
   ]
  },
  {
   "cell_type": "code",
   "execution_count": 40,
   "id": "5c2e0d68",
   "metadata": {},
   "outputs": [
    {
     "name": "stdout",
     "output_type": "stream",
     "text": [
      " * sqlite:///projeto1_analise_de_dados_pyton/database/dbprojeto1.db\n",
      "Done.\n"
     ]
    },
    {
     "data": {
      "text/html": [
       "<table>\n",
       "    <tr>\n",
       "        <th>Age</th>\n",
       "        <th>Glucose</th>\n",
       "        <th>Outcome</th>\n",
       "    </tr>\n",
       "    <tr>\n",
       "        <td>53</td>\n",
       "        <td>197</td>\n",
       "        <td>1</td>\n",
       "    </tr>\n",
       "    <tr>\n",
       "        <td>41</td>\n",
       "        <td>196</td>\n",
       "        <td>1</td>\n",
       "    </tr>\n",
       "    <tr>\n",
       "        <td>41</td>\n",
       "        <td>194</td>\n",
       "        <td>1</td>\n",
       "    </tr>\n",
       "    <tr>\n",
       "        <td>57</td>\n",
       "        <td>196</td>\n",
       "        <td>1</td>\n",
       "    </tr>\n",
       "    <tr>\n",
       "        <td>31</td>\n",
       "        <td>197</td>\n",
       "        <td>0</td>\n",
       "    </tr>\n",
       "    <tr>\n",
       "        <td>24</td>\n",
       "        <td>193</td>\n",
       "        <td>0</td>\n",
       "    </tr>\n",
       "    <tr>\n",
       "        <td>34</td>\n",
       "        <td>191</td>\n",
       "        <td>0</td>\n",
       "    </tr>\n",
       "    <tr>\n",
       "        <td>59</td>\n",
       "        <td>194</td>\n",
       "        <td>1</td>\n",
       "    </tr>\n",
       "    <tr>\n",
       "        <td>29</td>\n",
       "        <td>196</td>\n",
       "        <td>1</td>\n",
       "    </tr>\n",
       "    <tr>\n",
       "        <td>25</td>\n",
       "        <td>193</td>\n",
       "        <td>1</td>\n",
       "    </tr>\n",
       "</table>"
      ],
      "text/plain": [
       "[(53, 197, 1),\n",
       " (41, 196, 1),\n",
       " (41, 194, 1),\n",
       " (57, 196, 1),\n",
       " (31, 197, 0),\n",
       " (24, 193, 0),\n",
       " (34, 191, 0),\n",
       " (59, 194, 1),\n",
       " (29, 196, 1),\n",
       " (25, 193, 1)]"
      ]
     },
     "execution_count": 40,
     "metadata": {},
     "output_type": "execute_result"
    }
   ],
   "source": [
    "%%sql\n",
    "select Age, Glucose, Outcome from diabetes\n",
    "where Glucose > 190\n",
    "limit 10"
   ]
  },
  {
   "cell_type": "code",
   "execution_count": 41,
   "id": "3455532f",
   "metadata": {},
   "outputs": [
    {
     "data": {
      "text/plain": [
       "Index(['Pregnancies', 'Glucose', 'BloodPressure', 'SkinThickness', 'Insulin',\n",
       "       'BMI', 'DiabetesPedigreeFunction', 'Age', 'Outcome'],\n",
       "      dtype='object')"
      ]
     },
     "execution_count": 41,
     "metadata": {},
     "output_type": "execute_result"
    }
   ],
   "source": [
    "df.columns"
   ]
  },
  {
   "cell_type": "code",
   "execution_count": 69,
   "id": "217bc4ff",
   "metadata": {},
   "outputs": [
    {
     "name": "stdout",
     "output_type": "stream",
     "text": [
      " * sqlite:///projeto1_analise_de_dados_pyton/database/dbprojeto1.db\n",
      "Done.\n"
     ]
    },
    {
     "data": {
      "text/plain": [
       "[]"
      ]
     },
     "execution_count": 69,
     "metadata": {},
     "output_type": "execute_result"
    }
   ],
   "source": [
    "%%sql\n",
    "create table pacientes (Pregnancies INT,\n",
    "                       Glucose INT,\n",
    "                       BloodPressure INT,\n",
    "                       SkinThickness INT,\n",
    "                       Insulin INT,\n",
    "                       BMI DECIMAL (8,2),\n",
    "                       DiabetesPedigreeFunction DECIMAL (8,2),\n",
    "                       Age INT,\n",
    "                       Outcome INT);"
   ]
  },
  {
   "cell_type": "code",
   "execution_count": 70,
   "id": "edc703d2",
   "metadata": {},
   "outputs": [
    {
     "name": "stdout",
     "output_type": "stream",
     "text": [
      " * sqlite:///projeto1_analise_de_dados_pyton/database/dbprojeto1.db\n",
      "81 rows affected.\n"
     ]
    },
    {
     "data": {
      "text/plain": [
       "[]"
      ]
     },
     "execution_count": 70,
     "metadata": {},
     "output_type": "execute_result"
    }
   ],
   "source": [
    "%%sql\n",
    "insert into pacientes (Pregnancies,\n",
    "                       Glucose,\n",
    "                       BloodPressure,\n",
    "                       SkinThickness,\n",
    "                       Insulin,\n",
    "                       BMI,\n",
    "                       DiabetesPedigreeFunction,\n",
    "                       Age,\n",
    "                       Outcome)\n",
    "select Pregnancies,\n",
    "       Glucose,\n",
    "       BloodPressure,\n",
    "       SkinThickness,\n",
    "       Insulin,\n",
    "       BMI DECIMAL,\n",
    "       DiabetesPedigreeFunction,\n",
    "       Age,\n",
    "       Outcome\n",
    "from diabetes where Age > 50;"
   ]
  },
  {
   "cell_type": "code",
   "execution_count": 71,
   "id": "75e968a9",
   "metadata": {},
   "outputs": [
    {
     "name": "stdout",
     "output_type": "stream",
     "text": [
      " * sqlite:///projeto1_analise_de_dados_pyton/database/dbprojeto1.db\n",
      "Done.\n"
     ]
    },
    {
     "data": {
      "text/html": [
       "<table>\n",
       "    <tr>\n",
       "        <th>Pregnancies</th>\n",
       "        <th>Glucose</th>\n",
       "        <th>BloodPressure</th>\n",
       "        <th>SkinThickness</th>\n",
       "        <th>Insulin</th>\n",
       "        <th>BMI</th>\n",
       "        <th>DiabetesPedigreeFunction</th>\n",
       "        <th>Age</th>\n",
       "        <th>Outcome</th>\n",
       "    </tr>\n",
       "    <tr>\n",
       "        <td>2</td>\n",
       "        <td>197</td>\n",
       "        <td>70</td>\n",
       "        <td>45</td>\n",
       "        <td>543</td>\n",
       "        <td>30.5</td>\n",
       "        <td>0.158</td>\n",
       "        <td>53</td>\n",
       "        <td>1</td>\n",
       "    </tr>\n",
       "    <tr>\n",
       "        <td>8</td>\n",
       "        <td>125</td>\n",
       "        <td>96</td>\n",
       "        <td>0</td>\n",
       "        <td>0</td>\n",
       "        <td>0</td>\n",
       "        <td>0.232</td>\n",
       "        <td>54</td>\n",
       "        <td>1</td>\n",
       "    </tr>\n",
       "    <tr>\n",
       "        <td>10</td>\n",
       "        <td>139</td>\n",
       "        <td>80</td>\n",
       "        <td>0</td>\n",
       "        <td>0</td>\n",
       "        <td>27.1</td>\n",
       "        <td>1.441</td>\n",
       "        <td>57</td>\n",
       "        <td>0</td>\n",
       "    </tr>\n",
       "    <tr>\n",
       "        <td>1</td>\n",
       "        <td>189</td>\n",
       "        <td>60</td>\n",
       "        <td>23</td>\n",
       "        <td>846</td>\n",
       "        <td>30.1</td>\n",
       "        <td>0.398</td>\n",
       "        <td>59</td>\n",
       "        <td>1</td>\n",
       "    </tr>\n",
       "    <tr>\n",
       "        <td>5</td>\n",
       "        <td>166</td>\n",
       "        <td>72</td>\n",
       "        <td>19</td>\n",
       "        <td>175</td>\n",
       "        <td>25.8</td>\n",
       "        <td>0.587</td>\n",
       "        <td>51</td>\n",
       "        <td>1</td>\n",
       "    </tr>\n",
       "</table>"
      ],
      "text/plain": [
       "[(2, 197, 70, 45, 543, 30.5, 0.158, 53, 1),\n",
       " (8, 125, 96, 0, 0, 0, 0.232, 54, 1),\n",
       " (10, 139, 80, 0, 0, 27.1, 1.441, 57, 0),\n",
       " (1, 189, 60, 23, 846, 30.1, 0.398, 59, 1),\n",
       " (5, 166, 72, 19, 175, 25.8, 0.587, 51, 1)]"
      ]
     },
     "execution_count": 71,
     "metadata": {},
     "output_type": "execute_result"
    }
   ],
   "source": [
    "%%sql\n",
    "select * from pacientes\n",
    "limit 5"
   ]
  },
  {
   "cell_type": "code",
   "execution_count": 72,
   "id": "5217f27e",
   "metadata": {},
   "outputs": [
    {
     "name": "stdout",
     "output_type": "stream",
     "text": [
      " * sqlite:///projeto1_analise_de_dados_pyton/database/dbprojeto1.db\n",
      "Done.\n"
     ]
    },
    {
     "data": {
      "text/plain": [
       "[]"
      ]
     },
     "execution_count": 72,
     "metadata": {},
     "output_type": "execute_result"
    }
   ],
   "source": [
    "%%sql\n",
    "alter table pacientes\n",
    "add Perfil VARCHAR(10);"
   ]
  },
  {
   "cell_type": "code",
   "execution_count": 73,
   "id": "aa30bb45",
   "metadata": {},
   "outputs": [
    {
     "name": "stdout",
     "output_type": "stream",
     "text": [
      " * sqlite:///projeto1_analise_de_dados_pyton/database/dbprojeto1.db\n",
      "Done.\n"
     ]
    },
    {
     "data": {
      "text/html": [
       "<table>\n",
       "    <tr>\n",
       "        <th>Pregnancies</th>\n",
       "        <th>Glucose</th>\n",
       "        <th>BloodPressure</th>\n",
       "        <th>SkinThickness</th>\n",
       "        <th>Insulin</th>\n",
       "        <th>BMI</th>\n",
       "        <th>DiabetesPedigreeFunction</th>\n",
       "        <th>Age</th>\n",
       "        <th>Outcome</th>\n",
       "        <th>Perfil</th>\n",
       "    </tr>\n",
       "    <tr>\n",
       "        <td>2</td>\n",
       "        <td>197</td>\n",
       "        <td>70</td>\n",
       "        <td>45</td>\n",
       "        <td>543</td>\n",
       "        <td>30.5</td>\n",
       "        <td>0.158</td>\n",
       "        <td>53</td>\n",
       "        <td>1</td>\n",
       "        <td>None</td>\n",
       "    </tr>\n",
       "    <tr>\n",
       "        <td>8</td>\n",
       "        <td>125</td>\n",
       "        <td>96</td>\n",
       "        <td>0</td>\n",
       "        <td>0</td>\n",
       "        <td>0</td>\n",
       "        <td>0.232</td>\n",
       "        <td>54</td>\n",
       "        <td>1</td>\n",
       "        <td>None</td>\n",
       "    </tr>\n",
       "    <tr>\n",
       "        <td>10</td>\n",
       "        <td>139</td>\n",
       "        <td>80</td>\n",
       "        <td>0</td>\n",
       "        <td>0</td>\n",
       "        <td>27.1</td>\n",
       "        <td>1.441</td>\n",
       "        <td>57</td>\n",
       "        <td>0</td>\n",
       "        <td>None</td>\n",
       "    </tr>\n",
       "    <tr>\n",
       "        <td>1</td>\n",
       "        <td>189</td>\n",
       "        <td>60</td>\n",
       "        <td>23</td>\n",
       "        <td>846</td>\n",
       "        <td>30.1</td>\n",
       "        <td>0.398</td>\n",
       "        <td>59</td>\n",
       "        <td>1</td>\n",
       "        <td>None</td>\n",
       "    </tr>\n",
       "    <tr>\n",
       "        <td>5</td>\n",
       "        <td>166</td>\n",
       "        <td>72</td>\n",
       "        <td>19</td>\n",
       "        <td>175</td>\n",
       "        <td>25.8</td>\n",
       "        <td>0.587</td>\n",
       "        <td>51</td>\n",
       "        <td>1</td>\n",
       "        <td>None</td>\n",
       "    </tr>\n",
       "</table>"
      ],
      "text/plain": [
       "[(2, 197, 70, 45, 543, 30.5, 0.158, 53, 1, None),\n",
       " (8, 125, 96, 0, 0, 0, 0.232, 54, 1, None),\n",
       " (10, 139, 80, 0, 0, 27.1, 1.441, 57, 0, None),\n",
       " (1, 189, 60, 23, 846, 30.1, 0.398, 59, 1, None),\n",
       " (5, 166, 72, 19, 175, 25.8, 0.587, 51, 1, None)]"
      ]
     },
     "execution_count": 73,
     "metadata": {},
     "output_type": "execute_result"
    }
   ],
   "source": [
    "%%sql\n",
    "select * from pacientes\n",
    "limit 5"
   ]
  },
  {
   "cell_type": "code",
   "execution_count": 74,
   "id": "b99659ab",
   "metadata": {},
   "outputs": [
    {
     "name": "stdout",
     "output_type": "stream",
     "text": [
      " * sqlite:///projeto1_analise_de_dados_pyton/database/dbprojeto1.db\n",
      "38 rows affected.\n"
     ]
    },
    {
     "data": {
      "text/plain": [
       "[]"
      ]
     },
     "execution_count": 74,
     "metadata": {},
     "output_type": "execute_result"
    }
   ],
   "source": [
    "%%sql\n",
    "update pacientes\n",
    "set Perfil = 'Normal'\n",
    "where BMI < 30;"
   ]
  },
  {
   "cell_type": "code",
   "execution_count": 75,
   "id": "421635cb",
   "metadata": {},
   "outputs": [
    {
     "name": "stdout",
     "output_type": "stream",
     "text": [
      " * sqlite:///projeto1_analise_de_dados_pyton/database/dbprojeto1.db\n",
      "43 rows affected.\n"
     ]
    },
    {
     "data": {
      "text/plain": [
       "[]"
      ]
     },
     "execution_count": 75,
     "metadata": {},
     "output_type": "execute_result"
    }
   ],
   "source": [
    "%%sql\n",
    "update pacientes\n",
    "set Perfil = 'Obeso'\n",
    "where BMI >= 30;"
   ]
  },
  {
   "cell_type": "code",
   "execution_count": 76,
   "id": "be2ded83",
   "metadata": {},
   "outputs": [
    {
     "name": "stdout",
     "output_type": "stream",
     "text": [
      " * sqlite:///projeto1_analise_de_dados_pyton/database/dbprojeto1.db\n",
      "Done.\n"
     ]
    },
    {
     "data": {
      "text/html": [
       "<table>\n",
       "    <tr>\n",
       "        <th>Pregnancies</th>\n",
       "        <th>Glucose</th>\n",
       "        <th>BloodPressure</th>\n",
       "        <th>SkinThickness</th>\n",
       "        <th>Insulin</th>\n",
       "        <th>BMI</th>\n",
       "        <th>DiabetesPedigreeFunction</th>\n",
       "        <th>Age</th>\n",
       "        <th>Outcome</th>\n",
       "        <th>Perfil</th>\n",
       "    </tr>\n",
       "    <tr>\n",
       "        <td>2</td>\n",
       "        <td>197</td>\n",
       "        <td>70</td>\n",
       "        <td>45</td>\n",
       "        <td>543</td>\n",
       "        <td>30.5</td>\n",
       "        <td>0.158</td>\n",
       "        <td>53</td>\n",
       "        <td>1</td>\n",
       "        <td>Obeso</td>\n",
       "    </tr>\n",
       "    <tr>\n",
       "        <td>8</td>\n",
       "        <td>125</td>\n",
       "        <td>96</td>\n",
       "        <td>0</td>\n",
       "        <td>0</td>\n",
       "        <td>0</td>\n",
       "        <td>0.232</td>\n",
       "        <td>54</td>\n",
       "        <td>1</td>\n",
       "        <td>Normal</td>\n",
       "    </tr>\n",
       "    <tr>\n",
       "        <td>10</td>\n",
       "        <td>139</td>\n",
       "        <td>80</td>\n",
       "        <td>0</td>\n",
       "        <td>0</td>\n",
       "        <td>27.1</td>\n",
       "        <td>1.441</td>\n",
       "        <td>57</td>\n",
       "        <td>0</td>\n",
       "        <td>Normal</td>\n",
       "    </tr>\n",
       "    <tr>\n",
       "        <td>1</td>\n",
       "        <td>189</td>\n",
       "        <td>60</td>\n",
       "        <td>23</td>\n",
       "        <td>846</td>\n",
       "        <td>30.1</td>\n",
       "        <td>0.398</td>\n",
       "        <td>59</td>\n",
       "        <td>1</td>\n",
       "        <td>Obeso</td>\n",
       "    </tr>\n",
       "    <tr>\n",
       "        <td>5</td>\n",
       "        <td>166</td>\n",
       "        <td>72</td>\n",
       "        <td>19</td>\n",
       "        <td>175</td>\n",
       "        <td>25.8</td>\n",
       "        <td>0.587</td>\n",
       "        <td>51</td>\n",
       "        <td>1</td>\n",
       "        <td>Normal</td>\n",
       "    </tr>\n",
       "</table>"
      ],
      "text/plain": [
       "[(2, 197, 70, 45, 543, 30.5, 0.158, 53, 1, 'Obeso'),\n",
       " (8, 125, 96, 0, 0, 0, 0.232, 54, 1, 'Normal'),\n",
       " (10, 139, 80, 0, 0, 27.1, 1.441, 57, 0, 'Normal'),\n",
       " (1, 189, 60, 23, 846, 30.1, 0.398, 59, 1, 'Obeso'),\n",
       " (5, 166, 72, 19, 175, 25.8, 0.587, 51, 1, 'Normal')]"
      ]
     },
     "execution_count": 76,
     "metadata": {},
     "output_type": "execute_result"
    }
   ],
   "source": [
    "%%sql\n",
    "select * from pacientes\n",
    "limit 5"
   ]
  },
  {
   "cell_type": "markdown",
   "id": "2054367b",
   "metadata": {},
   "source": [
    "Carregando os dados no Pandas e salvando o CSV"
   ]
  },
  {
   "cell_type": "code",
   "execution_count": 77,
   "id": "00ecacf5",
   "metadata": {},
   "outputs": [
    {
     "data": {
      "text/plain": [
       "<sqlite3.Cursor at 0x20c630945e0>"
      ]
     },
     "execution_count": 77,
     "metadata": {},
     "output_type": "execute_result"
    }
   ],
   "source": [
    "query = cnn.execute('select * from pacientes')\n",
    "query"
   ]
  },
  {
   "cell_type": "code",
   "execution_count": 78,
   "id": "b2ff7aa8",
   "metadata": {},
   "outputs": [
    {
     "data": {
      "text/plain": [
       "['Pregnancies',\n",
       " 'Glucose',\n",
       " 'BloodPressure',\n",
       " 'SkinThickness',\n",
       " 'Insulin',\n",
       " 'BMI',\n",
       " 'DiabetesPedigreeFunction',\n",
       " 'Age',\n",
       " 'Outcome',\n",
       " 'Perfil']"
      ]
     },
     "execution_count": 78,
     "metadata": {},
     "output_type": "execute_result"
    }
   ],
   "source": [
    "cols = [coluna[0] for coluna in query.description]\n",
    "cols"
   ]
  },
  {
   "cell_type": "code",
   "execution_count": 79,
   "id": "bc7a991d",
   "metadata": {},
   "outputs": [
    {
     "data": {
      "text/plain": [
       "(81, 10)"
      ]
     },
     "execution_count": 79,
     "metadata": {},
     "output_type": "execute_result"
    }
   ],
   "source": [
    "#Gerando o dataframe\n",
    "df = pd.DataFrame.from_records(data = query.fetchall(), columns = cols)\n",
    "df.shape"
   ]
  },
  {
   "cell_type": "code",
   "execution_count": 80,
   "id": "4ecda33b",
   "metadata": {},
   "outputs": [
    {
     "data": {
      "text/html": [
       "<div>\n",
       "<style scoped>\n",
       "    .dataframe tbody tr th:only-of-type {\n",
       "        vertical-align: middle;\n",
       "    }\n",
       "\n",
       "    .dataframe tbody tr th {\n",
       "        vertical-align: top;\n",
       "    }\n",
       "\n",
       "    .dataframe thead th {\n",
       "        text-align: right;\n",
       "    }\n",
       "</style>\n",
       "<table border=\"1\" class=\"dataframe\">\n",
       "  <thead>\n",
       "    <tr style=\"text-align: right;\">\n",
       "      <th></th>\n",
       "      <th>Pregnancies</th>\n",
       "      <th>Glucose</th>\n",
       "      <th>BloodPressure</th>\n",
       "      <th>SkinThickness</th>\n",
       "      <th>Insulin</th>\n",
       "      <th>BMI</th>\n",
       "      <th>DiabetesPedigreeFunction</th>\n",
       "      <th>Age</th>\n",
       "      <th>Outcome</th>\n",
       "      <th>Perfil</th>\n",
       "    </tr>\n",
       "  </thead>\n",
       "  <tbody>\n",
       "    <tr>\n",
       "      <th>0</th>\n",
       "      <td>2</td>\n",
       "      <td>197</td>\n",
       "      <td>70</td>\n",
       "      <td>45</td>\n",
       "      <td>543</td>\n",
       "      <td>30.5</td>\n",
       "      <td>0.158</td>\n",
       "      <td>53</td>\n",
       "      <td>1</td>\n",
       "      <td>Obeso</td>\n",
       "    </tr>\n",
       "    <tr>\n",
       "      <th>1</th>\n",
       "      <td>8</td>\n",
       "      <td>125</td>\n",
       "      <td>96</td>\n",
       "      <td>0</td>\n",
       "      <td>0</td>\n",
       "      <td>0.0</td>\n",
       "      <td>0.232</td>\n",
       "      <td>54</td>\n",
       "      <td>1</td>\n",
       "      <td>Normal</td>\n",
       "    </tr>\n",
       "    <tr>\n",
       "      <th>2</th>\n",
       "      <td>10</td>\n",
       "      <td>139</td>\n",
       "      <td>80</td>\n",
       "      <td>0</td>\n",
       "      <td>0</td>\n",
       "      <td>27.1</td>\n",
       "      <td>1.441</td>\n",
       "      <td>57</td>\n",
       "      <td>0</td>\n",
       "      <td>Normal</td>\n",
       "    </tr>\n",
       "  </tbody>\n",
       "</table>\n",
       "</div>"
      ],
      "text/plain": [
       "   Pregnancies  Glucose  BloodPressure  SkinThickness  Insulin   BMI  \\\n",
       "0            2      197             70             45      543  30.5   \n",
       "1            8      125             96              0        0   0.0   \n",
       "2           10      139             80              0        0  27.1   \n",
       "\n",
       "   DiabetesPedigreeFunction  Age  Outcome  Perfil  \n",
       "0                     0.158   53        1   Obeso  \n",
       "1                     0.232   54        1  Normal  \n",
       "2                     1.441   57        0  Normal  "
      ]
     },
     "execution_count": 80,
     "metadata": {},
     "output_type": "execute_result"
    }
   ],
   "source": [
    "df.head(3)"
   ]
  },
  {
   "cell_type": "code",
   "execution_count": 81,
   "id": "805fcd70",
   "metadata": {},
   "outputs": [],
   "source": [
    "# Gerando o CSV\n",
    "df.to_csv('projeto1_analise_de_dados_pyton/dataset/pacientes.csv', index = False)"
   ]
  },
  {
   "cell_type": "markdown",
   "id": "500af126",
   "metadata": {},
   "source": [
    "FIM!!!!!!"
   ]
  }
 ],
 "metadata": {
  "kernelspec": {
   "display_name": "Python 3 (ipykernel)",
   "language": "python",
   "name": "python3"
  },
  "language_info": {
   "codemirror_mode": {
    "name": "ipython",
    "version": 3
   },
   "file_extension": ".py",
   "mimetype": "text/x-python",
   "name": "python",
   "nbconvert_exporter": "python",
   "pygments_lexer": "ipython3",
   "version": "3.9.13"
  }
 },
 "nbformat": 4,
 "nbformat_minor": 5
}

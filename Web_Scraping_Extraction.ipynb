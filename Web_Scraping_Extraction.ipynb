{
 "cells": [
  {
   "cell_type": "markdown",
   "id": "c0dc8efe",
   "metadata": {},
   "source": [
    "## Web Data Analytics - Web Scraping"
   ]
  },
  {
   "cell_type": "code",
   "execution_count": 1,
   "id": "3b807220",
   "metadata": {},
   "outputs": [],
   "source": [
    "from platform import python_version"
   ]
  },
  {
   "cell_type": "code",
   "execution_count": 2,
   "id": "69d94689",
   "metadata": {},
   "outputs": [
    {
     "name": "stdout",
     "output_type": "stream",
     "text": [
      "3.9.13\n"
     ]
    }
   ],
   "source": [
    "print(python_version())"
   ]
  },
  {
   "cell_type": "code",
   "execution_count": 3,
   "id": "51c94150",
   "metadata": {},
   "outputs": [],
   "source": [
    "#imports\n",
    "import re\n",
    "import bs4\n",
    "import time\n",
    "import json\n",
    "import requests\n",
    "from bs4 import BeautifulSoup as bs"
   ]
  },
  {
   "cell_type": "code",
   "execution_count": 4,
   "id": "87183ea3",
   "metadata": {},
   "outputs": [
    {
     "name": "stdout",
     "output_type": "stream",
     "text": [
      "requests: 2.28.1\n",
      "json    : 2.0.9\n",
      "re      : 2.2.1\n",
      "bs4     : 4.11.1\n",
      "\n"
     ]
    }
   ],
   "source": [
    "%reload_ext watermark\n",
    "%watermark --iversions"
   ]
  },
  {
   "cell_type": "markdown",
   "id": "6016acda",
   "metadata": {},
   "source": [
    "##### Funções Para Extração de Dados Via Web Scraping"
   ]
  },
  {
   "cell_type": "code",
   "execution_count": 5,
   "id": "30085a0b",
   "metadata": {},
   "outputs": [],
   "source": [
    "# Função para obter tudo que estiver nas tags td e div e com seletor CSS spaceit_pad\n",
    "# Assim extraímos informações gerais da página\n",
    "def getInfoGeral(soup):\n",
    "    information = soup.select(\"td div .spaceit_pad\")\n",
    "    side_info_par = []\n",
    "    for info in information:\n",
    "        side_info_par.append(info.text.split())\n",
    "    return side_info_par"
   ]
  },
  {
   "cell_type": "code",
   "execution_count": 6,
   "id": "30a0d5f7",
   "metadata": {},
   "outputs": [],
   "source": [
    "# Função para obter o número de pessoas que adicionaram o anime aos favoritos\n",
    "def getFavorite(information):\n",
    "    for info in information:\n",
    "        if info[0] == \"Favorites:\":\n",
    "            data = info[1].split(\",\")\n",
    "            return int(\"\".join(data))\n",
    "    return None"
   ]
  },
  {
   "cell_type": "code",
   "execution_count": 7,
   "id": "1a69da01",
   "metadata": {},
   "outputs": [],
   "source": [
    "# Função para obter o número do episódio\n",
    "def episodeNumberParser(information):\n",
    "    for info in information:\n",
    "        if (info[0] == \"Episodes:\"):\n",
    "            if info[1] != \"Unknown\":\n",
    "                return int(info[1])\n",
    "            return None\n",
    "    return None"
   ]
  },
  {
   "cell_type": "code",
   "execution_count": 8,
   "id": "b2198a8f",
   "metadata": {},
   "outputs": [],
   "source": [
    "# Função para obter o tipo de anime TV\n",
    "def typeParser(information):\n",
    "    for info in information:\n",
    "        if (info[0] == \"Type:\"):\n",
    "            return info[1]\n",
    "    return None"
   ]
  },
  {
   "cell_type": "code",
   "execution_count": 9,
   "id": "a3e7dcb1",
   "metadata": {},
   "outputs": [],
   "source": [
    "# Função para obter o dia em que o anime estreou\n",
    "def dayPremiered(information):\n",
    "    for info in information:\n",
    "        if (info[0] == \"Premiered:\"):\n",
    "            premired_day = \"\"\n",
    "            return \" \".join(info[1:])\n",
    "    return None"
   ]
  },
  {
   "cell_type": "code",
   "execution_count": 10,
   "id": "157755d3",
   "metadata": {},
   "outputs": [],
   "source": [
    "# Função para obter a fonte de onde do anime\n",
    "def getSource(information):\n",
    "    for info in information:\n",
    "        if info[0] == \"Source:\":\n",
    "            return \" \".join(info[1:])\n",
    "    return None"
   ]
  },
  {
   "cell_type": "code",
   "execution_count": 11,
   "id": "3cb48d21",
   "metadata": {},
   "outputs": [],
   "source": [
    "# Função para retornar uma lista de gêneros do anime\n",
    "def getGenres(information):\n",
    "    for info in information:\n",
    "        if info[0] == \"Genres:\":\n",
    "            genres = \"\".join(info[1:])\n",
    "            return genres.split(\",\")\n",
    "    return None"
   ]
  },
  {
   "cell_type": "code",
   "execution_count": 12,
   "id": "16b33034",
   "metadata": {},
   "outputs": [],
   "source": [
    "# Função que retorna uma lista de estúdios que estão patrocinando este anime\n",
    "def getStudios(information):\n",
    "    for info in information:\n",
    "        if info[0] == \"Studios:\":\n",
    "            return \" \".join(info[1:])\n",
    "    return None"
   ]
  },
  {
   "cell_type": "code",
   "execution_count": 13,
   "id": "3a78effb",
   "metadata": {},
   "outputs": [],
   "source": [
    "# Função que retorna uma lista de empresas que realmente possuem a licença deste anime\n",
    "def getLicense(information):\n",
    "    for info in information:\n",
    "        if info[0] == \"Licensors:\":\n",
    "            if info[1] == \"None\":\n",
    "                return None\n",
    "            license = \"\".join(info[1:])\n",
    "            return license.split(\",\")\n",
    "    return None"
   ]
  },
  {
   "cell_type": "code",
   "execution_count": 14,
   "id": "c0922969",
   "metadata": {},
   "outputs": [],
   "source": [
    "# Função que obtém a classificação do filme \n",
    "def getRating(information):\n",
    "    for info in information:\n",
    "        if info[0] == \"Rating:\":\n",
    "            return \"\".join(info[1:4])\n",
    "    return None"
   ]
  },
  {
   "cell_type": "code",
   "execution_count": 15,
   "id": "73f2a618",
   "metadata": {},
   "outputs": [],
   "source": [
    "# Função para obter o nome de empresas que estão financiando o anime (Producers)\n",
    "def producers_names(soup):\n",
    "    div_and_a = soup.find_all([\"div\",\"a\"], class_=[\"spaceit_pad\"])\n",
    "    for index, j in enumerate(div_and_a):\n",
    "        if div_and_a[index].text.split(\"\\n\")[1] == \"Producers:\":\n",
    "            res = re.sub(\" *\", \"\", div_and_a[index].text)\n",
    "            new_res = res.split(\"\\n\")\n",
    "            for i,j in enumerate(new_res):\n",
    "                if j == \"Producers:\":\n",
    "                    return new_res[i+1].split(\",\")\n",
    "                    break\n",
    "    return None"
   ]
  },
  {
   "cell_type": "code",
   "execution_count": 16,
   "id": "e1d1926c",
   "metadata": {},
   "outputs": [],
   "source": [
    "# Função para obter informações de ranking\n",
    "def getRanking(soup):\n",
    "    ranking = soup.select_one(\".ranked strong\").text\n",
    "    data = ranking.split(\"#\")[1]\n",
    "    return int(data)"
   ]
  },
  {
   "cell_type": "code",
   "execution_count": 17,
   "id": "4b59398f",
   "metadata": {},
   "outputs": [],
   "source": [
    "# Função para obter o score do Anime\n",
    "def getScore(soup):\n",
    "    data = float(soup.select_one(\".score-label\").text)\n",
    "    return data"
   ]
  },
  {
   "cell_type": "code",
   "execution_count": 18,
   "id": "34bb0621",
   "metadata": {},
   "outputs": [],
   "source": [
    "# Função para obter informação de popularidade\n",
    "def getPopularity(soup):\n",
    "    popularity = soup.select_one(\".popularity strong\").text\n",
    "    data = popularity.split(\"#\")[1]\n",
    "    return int(data)"
   ]
  },
  {
   "cell_type": "code",
   "execution_count": 19,
   "id": "36db695f",
   "metadata": {},
   "outputs": [],
   "source": [
    "# Função para obter informação sobre os membros\n",
    "def getMembers(soup):\n",
    "    members = soup.select_one(\".members strong\").text\n",
    "    data = members.split(\",\")\n",
    "    return int(\"\".join(data))"
   ]
  },
  {
   "cell_type": "code",
   "execution_count": 20,
   "id": "dc007e14",
   "metadata": {},
   "outputs": [],
   "source": [
    "# Função para obter o número de pessoas que votaram no anime\n",
    "def votersCount(soup):\n",
    "    count = soup.select(\".js-statistics-info span\")\n",
    "    data = []\n",
    "    for i in count:\n",
    "        data.append(i.text)\n",
    "    if len(data) > 3:\n",
    "        return int(data[2])\n",
    "    return None"
   ]
  },
  {
   "cell_type": "code",
   "execution_count": 21,
   "id": "26e0ed78",
   "metadata": {},
   "outputs": [],
   "source": [
    "# Função para obter a voz do ator que faz a narração\n",
    "def voiceActorsName(soup):\n",
    "    actorNames = []\n",
    "    names = soup.select(\".js-anime-character-va-lang .spaceit_pad a\")\n",
    "    for name in names:\n",
    "        data = \"\".join(name.text.split())\n",
    "        actorNames.append(data)\n",
    "    return actorNames"
   ]
  },
  {
   "cell_type": "code",
   "execution_count": 22,
   "id": "47bc0cee",
   "metadata": {},
   "outputs": [],
   "source": [
    "# Função para obter o idioma do ator que faz a narração\n",
    "def voiceActorsLanguage(soup):\n",
    "    languages = []\n",
    "    langNames = soup.select(\".js-anime-character-language\")\n",
    "    for language in langNames:\n",
    "        lang = \"\".join(language.text.split())\n",
    "        languages.append(lang)\n",
    "    return languages"
   ]
  },
  {
   "cell_type": "code",
   "execution_count": 23,
   "id": "ac611198",
   "metadata": {},
   "outputs": [],
   "source": [
    "# Função que usa o voiceActorName e voiceActorsLanguage para criar um dataframe \n",
    "# que irá anexar todas as informações relacionadas às vozes dos atores.\n",
    "# Usando essas informações, dividiremos os voiceActors com base em seus idiomas.\n",
    "def voiceActorNameandLanguage(soup):\n",
    "    names = voiceActorsName(soup)\n",
    "    languages = voiceActorsLanguage(soup)\n",
    "    namesAndLang = []\n",
    "    for i in range(len(names)):\n",
    "        namesAndLang.append([names[i], languages[i]])\n",
    "    return namesAndLang"
   ]
  },
  {
   "cell_type": "code",
   "execution_count": 24,
   "id": "3dfd6bca",
   "metadata": {},
   "outputs": [],
   "source": [
    "# Função que retorna a ocupação de cada funcionário\n",
    "def staffOccupation(soup):\n",
    "    data = []\n",
    "    for i in soup.select('td .js-scrollfix-bottom-rel .spaceit_pad small'):\n",
    "        data.append(\"\".join(i.text.split()))\n",
    "    return data"
   ]
  },
  {
   "cell_type": "code",
   "execution_count": 25,
   "id": "7b341b03",
   "metadata": {},
   "outputs": [],
   "source": [
    "# Função que retorna o nome dos funcionários\n",
    "def staffName(soup):\n",
    "    data = []\n",
    "    for i in soup.select('td .js-scrollfix-bottom-rel a'):\n",
    "        data.append(\"\".join(i.text.split()))\n",
    "    uncleanData = []\n",
    "    for index, info in enumerate(data):\n",
    "        if info == \"Addstaff\":\n",
    "            uncleanData.append(data[index+1:])\n",
    "            break\n",
    "    cleanData = []\n",
    "    for i in uncleanData:\n",
    "        for j in i:\n",
    "            if len(j) > 1:\n",
    "                cleanData.append(j)\n",
    "    return cleanData"
   ]
  },
  {
   "cell_type": "code",
   "execution_count": 26,
   "id": "bae66b69",
   "metadata": {},
   "outputs": [],
   "source": [
    "# Função que concatena nome e ocupação dos funcionários\n",
    "def staffNameandOccupation(soup):\n",
    "    name = staffName(soup)\n",
    "    occupation = staffOccupation(soup)\n",
    "    nameAndOccupation = []\n",
    "    for i in range(len(name)):\n",
    "        nameAndOccupation.append([name[i], occupation[i]])\n",
    "    return nameAndOccupation"
   ]
  },
  {
   "cell_type": "code",
   "execution_count": 27,
   "id": "12490103",
   "metadata": {},
   "outputs": [],
   "source": [
    "# Função que retorna o nome do Anime\n",
    "def animeName(soup):\n",
    "    name = soup.select_one(\".title-name\").text\n",
    "    if len(name) > 1:\n",
    "        return name\n",
    "    return None"
   ]
  },
  {
   "cell_type": "markdown",
   "id": "3ccfdda5",
   "metadata": {},
   "source": [
    "##### Web Scraping : https://myanimelist.net/topanime.php?type=airing&limit=100"
   ]
  },
  {
   "cell_type": "code",
   "execution_count": 28,
   "id": "1cc5dfed",
   "metadata": {},
   "outputs": [
    {
     "name": "stdout",
     "output_type": "stream",
     "text": [
      "200\n",
      "200\n",
      "200\n",
      "200\n",
      "200\n",
      "200\n",
      "200\n",
      "200\n",
      "200\n",
      "200\n",
      "Wall time: 47.8 s\n"
     ]
    }
   ],
   "source": [
    "%%time\n",
    "\n",
    "for limit in range(0, 451, 50):\n",
    "    try:\n",
    "        links = []\n",
    "\n",
    "        url = f'https://myanimelist.net/topanime.php?limit={limit}'\n",
    "\n",
    "        rq = requests.get(url)\n",
    "        print(rq.status_code)\n",
    "\n",
    "        soup = bs(rq.text, 'html.parser')\n",
    "\n",
    "        listsofA = soup.select('.hoverinfo_trigger a')\n",
    "\n",
    "        for a in listsofA:\n",
    "            links.append(a.get('href'))\n",
    "\n",
    "        file = open(f'projeto7_analise_de_dados_pyton/dados/animeLinks{limit}.txt', 'w')\n",
    "\n",
    "        for link in links:\n",
    "            file.writelines(link+'\\n')\n",
    "\n",
    "        file.close()\n",
    "\n",
    "        time.sleep(10)\n",
    "    except:\n",
    "        continue"
   ]
  },
  {
   "cell_type": "code",
   "execution_count": 29,
   "id": "39118b93",
   "metadata": {},
   "outputs": [
    {
     "name": "stdout",
     "output_type": "stream",
     "text": [
      "Fazendo Web Scraping. Seja paciente e aguarde...\n",
      "Fazendo Web Scraping. Seja paciente e aguarde...\n",
      "Wall time: 21min 18s\n"
     ]
    }
   ],
   "source": [
    "%%time\n",
    "for limit in range(0, 51, 50):\n",
    "    \n",
    "    # Lista\n",
    "    animeInfo = []\n",
    "    \n",
    "    # Leitura dos arquivos txt com os links\n",
    "    with open(f\"projeto7_analise_de_dados_pyton/dados/animeLinks{limit}.txt\", \"r\") as file:\n",
    "        links = file.readlines()\n",
    "    \n",
    "    print(\"Fazendo Web Scraping. Seja paciente e aguarde...\")\n",
    "    \n",
    "    # Request para cada link\n",
    "    for link in links:\n",
    "        \n",
    "        # Exemplo de url: https://myanimelist.net/anime/5114/Fullmetal_Alchemist__Brotherhood\n",
    "        rq = requests.get(link)\n",
    "        \n",
    "        # Exemplo de url: https://myanimelist.net/anime/5114/Fullmetal_Alchemist__Brotherhood/characters\n",
    "        rq2 = requests.get(link[:-2] + \"/characters\")\n",
    "        \n",
    "        # Soup com parse do html\n",
    "        soup = bs(rq.text, \"html.parser\")\n",
    "        soup2 = bs(rq2.text, \"html.parser\")\n",
    "        \n",
    "        # Obtém info geral da página\n",
    "        information = getInfoGeral(soup)\n",
    "        \n",
    "        # Extrai os dados e salva na lista no formato de dicionário\n",
    "        animeInfo.append(dict(\n",
    "            name                      = animeName(soup),\n",
    "            producers                 = producers_names(soup),\n",
    "            ranking                   = getRanking(soup),\n",
    "            votersCount               = votersCount(soup),\n",
    "            score                     = getScore(soup),\n",
    "            popularity                = getPopularity(soup),\n",
    "            members                   = getMembers(soup),\n",
    "            favorite                  = getFavorite(information),\n",
    "            episodes                  = episodeNumberParser(information),\n",
    "            animeType                 = typeParser(information),\n",
    "            premiredDate              = dayPremiered(information),\n",
    "            animeSource               = getSource(information),\n",
    "            genres                    = getGenres(information),\n",
    "            studios                   = getStudios(information),\n",
    "            licenses                  = getLicense(information),\n",
    "            rating                    = getRating(information),\n",
    "            voiceActorNameandLanguage = voiceActorNameandLanguage(soup2),\n",
    "            staffNameandOccupation    = staffNameandOccupation(soup2)))\n",
    "        \n",
    "        # Sleep\n",
    "        time.sleep(10)\n",
    "\n",
    "    # Grava o resultado em disco\n",
    "    with open(f\"projeto7_analise_de_dados_pyton/dados/animeInfo{limit}.txt\", 'w') as fout:\n",
    "        json.dump(animeInfo, fout)\n",
    "        \n",
    "    # Sleep\n",
    "    time.sleep(10)"
   ]
  },
  {
   "cell_type": "code",
   "execution_count": 30,
   "id": "53dcea39",
   "metadata": {},
   "outputs": [
    {
     "name": "stdout",
     "output_type": "stream",
     "text": [
      "Extraindo os nomes dos animes. Seja paciente e aguarde...\n",
      "Extraindo os nomes dos animes. Seja paciente e aguarde...\n",
      "Wall time: 10min 31s\n"
     ]
    }
   ],
   "source": [
    "%%time\n",
    "for limit in range(0, 51, 50):\n",
    "    \n",
    "    # Lista\n",
    "    animeInfoName = []\n",
    "    \n",
    "    # Abre os arquivos de links para leitura\n",
    "    with open(f\"projeto7_analise_de_dados_pyton/dados/animeLinks{limit}.txt\", \"r\") as file:\n",
    "        links = file.readlines()\n",
    "    \n",
    "    print(\"Extraindo os nomes dos animes. Seja paciente e aguarde...\")\n",
    "    \n",
    "    # Loop pelos links para extrair o nome dos animes\n",
    "    for link in links:\n",
    "        rq = requests.get(link)\n",
    "        soup = bs(rq.text, \"html.parser\")\n",
    "        animeInfoName.append(dict(name = animeName(soup)))\n",
    "        time.sleep(5)\n",
    "\n",
    "    # Salva o resultado em disco no formato json\n",
    "    with open(f\"projeto7_analise_de_dados_pyton/dados/animeInfoNames{limit}.txt\", 'w') as fout:\n",
    "        json.dump(animeInfoName, fout)"
   ]
  }
 ],
 "metadata": {
  "kernelspec": {
   "display_name": "Python 3 (ipykernel)",
   "language": "python",
   "name": "python3"
  },
  "language_info": {
   "codemirror_mode": {
    "name": "ipython",
    "version": 3
   },
   "file_extension": ".py",
   "mimetype": "text/x-python",
   "name": "python",
   "nbconvert_exporter": "python",
   "pygments_lexer": "ipython3",
   "version": "3.9.13"
  }
 },
 "nbformat": 4,
 "nbformat_minor": 5
}

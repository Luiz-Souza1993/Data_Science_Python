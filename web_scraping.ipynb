{
 "cells": [
  {
   "cell_type": "markdown",
   "id": "46efc548",
   "metadata": {},
   "source": [
    "## Web Scraping"
   ]
  },
  {
   "cell_type": "markdown",
   "id": "c1fc6df4",
   "metadata": {},
   "source": [
    "##### 1 - Extraindo Dados de Páginas Web"
   ]
  },
  {
   "cell_type": "code",
   "execution_count": 1,
   "id": "be1e2de9",
   "metadata": {},
   "outputs": [],
   "source": [
    "from bs4 import BeautifulSoup\n",
    "from bs4 import SoupStrainer"
   ]
  },
  {
   "cell_type": "code",
   "execution_count": 2,
   "id": "6d7e9e85",
   "metadata": {},
   "outputs": [],
   "source": [
    "html_doc = \"\"\"<html><head><title>Os Agentes Especiais</title></head>\n",
    "<body>\n",
    "<p class=\"title\"><b>História dos Agentes Especiais</b></p>\n",
    "<p class=\"historia\">Era uma vez três agentes especiais; e seus nomes eram\n",
    "<a href=\"http://www.exemplo.com/james\" class=\"agente\" id=\"link1\">James</a>,\n",
    "<a href=\"http://www.exemplo.com/julio\" class=\"agente\" id=\"link2\">Julio</a> e\n",
    "<a href=\"http://www.exemplo.com/jucimar\" class=\"agente\" id=\"link3\">Jucimar</a>;\n",
    "e eles viviam em Londres, na Inglaterra.</p>\n",
    "<p class=\"historia\">...</p>\n",
    "<h1>Agentes Especiais</h1>\n",
    "<ul>\n",
    " <li data-id=\"10784\">James Bond, 007: Agente especial para atividades internacionais.</li>\n",
    " <li data-id=\"97865\">Julio Verner, 006: Agente especial contra o. terrorismo.</li>\n",
    " <li data-id=\"45732\">Jucimar Moraes, 005: Agente especial para proteger a rainha.</li>\n",
    "</ul>\n",
    "</body>\n",
    "</html>\"\"\""
   ]
  },
  {
   "cell_type": "code",
   "execution_count": 3,
   "id": "37c22409",
   "metadata": {},
   "outputs": [],
   "source": [
    "tagsA = SoupStrainer(\"a\")"
   ]
  },
  {
   "cell_type": "code",
   "execution_count": 4,
   "id": "a859b958",
   "metadata": {},
   "outputs": [],
   "source": [
    "soupA = BeautifulSoup(html_doc, 'lxml', parse_only = tagsA)"
   ]
  },
  {
   "cell_type": "code",
   "execution_count": 5,
   "id": "a77b6b94",
   "metadata": {},
   "outputs": [
    {
     "name": "stdout",
     "output_type": "stream",
     "text": [
      "<class 'bs4.BeautifulSoup'>\n"
     ]
    }
   ],
   "source": [
    "print(type(soupA))"
   ]
  },
  {
   "cell_type": "code",
   "execution_count": 6,
   "id": "68c47d8b",
   "metadata": {},
   "outputs": [
    {
     "name": "stdout",
     "output_type": "stream",
     "text": [
      "<a class=\"agente\" href=\"http://www.exemplo.com/james\" id=\"link1\">James</a><a class=\"agente\" href=\"http://www.exemplo.com/julio\" id=\"link2\">Julio</a><a class=\"agente\" href=\"http://www.exemplo.com/jucimar\" id=\"link3\">Jucimar</a>\n"
     ]
    }
   ],
   "source": [
    "print(soupA)"
   ]
  },
  {
   "cell_type": "code",
   "execution_count": 7,
   "id": "6b95a1c3",
   "metadata": {},
   "outputs": [
    {
     "name": "stdout",
     "output_type": "stream",
     "text": [
      "<a class=\"agente\" href=\"http://www.exemplo.com/james\" id=\"link1\">\n",
      " James\n",
      "</a>\n",
      "<a class=\"agente\" href=\"http://www.exemplo.com/julio\" id=\"link2\">\n",
      " Julio\n",
      "</a>\n",
      "<a class=\"agente\" href=\"http://www.exemplo.com/jucimar\" id=\"link3\">\n",
      " Jucimar\n",
      "</a>\n"
     ]
    }
   ],
   "source": [
    "print(soupA.prettify())"
   ]
  },
  {
   "cell_type": "code",
   "execution_count": 8,
   "id": "5b6e6b7a",
   "metadata": {},
   "outputs": [
    {
     "name": "stdout",
     "output_type": "stream",
     "text": [
      "True\n"
     ]
    }
   ],
   "source": [
    "print(soupA.a.has_attr('class'))"
   ]
  },
  {
   "cell_type": "code",
   "execution_count": 9,
   "id": "d303e37c",
   "metadata": {},
   "outputs": [
    {
     "name": "stdout",
     "output_type": "stream",
     "text": [
      "False\n"
     ]
    }
   ],
   "source": [
    "print(soupA.a.has_attr('name'))"
   ]
  },
  {
   "cell_type": "markdown",
   "id": "52348c8d",
   "metadata": {},
   "source": [
    "##### 2 - Como Organizar e Analisar Dados Extraídos da Web "
   ]
  },
  {
   "cell_type": "code",
   "execution_count": 10,
   "id": "1fe01042",
   "metadata": {},
   "outputs": [
    {
     "name": "stdout",
     "output_type": "stream",
     "text": [
      "<a class=\"agente\" href=\"http://www.exemplo.com/james\" id=\"link1\">James</a>\n"
     ]
    }
   ],
   "source": [
    "print(soupA.find('a'))"
   ]
  },
  {
   "cell_type": "code",
   "execution_count": 11,
   "id": "f9f1898b",
   "metadata": {},
   "outputs": [
    {
     "name": "stdout",
     "output_type": "stream",
     "text": [
      "[<a class=\"agente\" href=\"http://www.exemplo.com/james\" id=\"link1\">James</a>, <a class=\"agente\" href=\"http://www.exemplo.com/julio\" id=\"link2\">Julio</a>, <a class=\"agente\" href=\"http://www.exemplo.com/jucimar\" id=\"link3\">Jucimar</a>]\n"
     ]
    }
   ],
   "source": [
    "print(soupA.find_all('a'))"
   ]
  },
  {
   "cell_type": "code",
   "execution_count": 12,
   "id": "c1f16068",
   "metadata": {},
   "outputs": [
    {
     "name": "stdout",
     "output_type": "stream",
     "text": [
      "<a class=\"agente\" href=\"http://www.exemplo.com/james\" id=\"link1\">James</a>\n"
     ]
    }
   ],
   "source": [
    "print(soupA.find('a', attrs = {'class': 'agente'})) "
   ]
  },
  {
   "cell_type": "code",
   "execution_count": 13,
   "id": "79f96834",
   "metadata": {},
   "outputs": [
    {
     "name": "stdout",
     "output_type": "stream",
     "text": [
      "<a class=\"agente\" href=\"http://www.exemplo.com/julio\" id=\"link2\">Julio</a>\n"
     ]
    }
   ],
   "source": [
    "print(soupA.find('a', attrs = {'class': 'agente'}, text = 'Julio')) "
   ]
  },
  {
   "cell_type": "code",
   "execution_count": 14,
   "id": "99d958f2",
   "metadata": {},
   "outputs": [
    {
     "name": "stdout",
     "output_type": "stream",
     "text": [
      "<a class=\"agente\" href=\"http://www.exemplo.com/jucimar\" id=\"link3\">Jucimar</a>\n"
     ]
    }
   ],
   "source": [
    "print(soupA.find('a', attrs = {'id': 'link3'})) "
   ]
  },
  {
   "cell_type": "code",
   "execution_count": 15,
   "id": "721c3769",
   "metadata": {},
   "outputs": [
    {
     "name": "stdout",
     "output_type": "stream",
     "text": [
      "[<a class=\"agente\" href=\"http://www.exemplo.com/james\" id=\"link1\">James</a>, <a class=\"agente\" href=\"http://www.exemplo.com/julio\" id=\"link2\">Julio</a>]\n"
     ]
    }
   ],
   "source": [
    "print(soupA.find_all('a', limit = 2))"
   ]
  },
  {
   "cell_type": "markdown",
   "id": "585879ad",
   "metadata": {},
   "source": [
    "##### 3 - Usando Expressão Regular Para Filtrar os Resultados"
   ]
  },
  {
   "cell_type": "code",
   "execution_count": 16,
   "id": "b0ed6bac",
   "metadata": {},
   "outputs": [],
   "source": [
    "import re"
   ]
  },
  {
   "cell_type": "code",
   "execution_count": 17,
   "id": "565d91ed",
   "metadata": {},
   "outputs": [
    {
     "name": "stdout",
     "output_type": "stream",
     "text": [
      "<a class=\"agente\" href=\"http://www.exemplo.com/julio\" id=\"link2\">Julio</a>\n"
     ]
    }
   ],
   "source": [
    "print(soupA.find('a', text = re.compile(r'lio')))"
   ]
  },
  {
   "cell_type": "code",
   "execution_count": 18,
   "id": "c337230c",
   "metadata": {},
   "outputs": [
    {
     "name": "stdout",
     "output_type": "stream",
     "text": [
      "[<a class=\"agente\" href=\"http://www.exemplo.com/jucimar\" id=\"link3\">Jucimar</a>]\n"
     ]
    }
   ],
   "source": [
    "print(soupA.find_all('a', attrs = {'id': re.compile(r'3')}))"
   ]
  },
  {
   "cell_type": "code",
   "execution_count": 19,
   "id": "b60066c6",
   "metadata": {},
   "outputs": [
    {
     "name": "stdout",
     "output_type": "stream",
     "text": [
      "[<a class=\"agente\" href=\"http://www.exemplo.com/james\" id=\"link1\">James</a>, <a class=\"agente\" href=\"http://www.exemplo.com/julio\" id=\"link2\">Julio</a>, <a class=\"agente\" href=\"http://www.exemplo.com/jucimar\" id=\"link3\">Jucimar</a>]\n"
     ]
    }
   ],
   "source": [
    "print(soupA.find_all(re.compile(r'a')))"
   ]
  },
  {
   "cell_type": "code",
   "execution_count": 20,
   "id": "c13e5623",
   "metadata": {},
   "outputs": [],
   "source": [
    "soup = BeautifulSoup(html_doc, 'lxml')"
   ]
  },
  {
   "cell_type": "code",
   "execution_count": 21,
   "id": "3325d646",
   "metadata": {},
   "outputs": [
    {
     "name": "stdout",
     "output_type": "stream",
     "text": [
      "[<p class=\"historia\">Era uma vez três agentes especiais; e seus nomes eram\n",
      "<a class=\"agente\" href=\"http://www.exemplo.com/james\" id=\"link1\">James</a>,\n",
      "<a class=\"agente\" href=\"http://www.exemplo.com/julio\" id=\"link2\">Julio</a> e\n",
      "<a class=\"agente\" href=\"http://www.exemplo.com/jucimar\" id=\"link3\">Jucimar</a>;\n",
      "e eles viviam em Londres, na Inglaterra.</p>, <p class=\"historia\">...</p>]\n"
     ]
    }
   ],
   "source": [
    "print(soup.find_all('p', 'historia'))"
   ]
  },
  {
   "cell_type": "code",
   "execution_count": 22,
   "id": "7b614ee8",
   "metadata": {},
   "outputs": [
    {
     "name": "stdout",
     "output_type": "stream",
     "text": [
      "[<p class=\"title\"><b>História dos Agentes Especiais</b></p>]\n"
     ]
    }
   ],
   "source": [
    "print(soup.find_all('p', 'title'))"
   ]
  },
  {
   "cell_type": "code",
   "execution_count": 23,
   "id": "abf4b14d",
   "metadata": {},
   "outputs": [
    {
     "name": "stdout",
     "output_type": "stream",
     "text": [
      "['James', 'James Bond, 007: Agente especial para atividades internacionais.']\n"
     ]
    }
   ],
   "source": [
    "print(soup.find_all(text = re.compile(r'Ja')))"
   ]
  },
  {
   "cell_type": "code",
   "execution_count": 24,
   "id": "20b28b15",
   "metadata": {},
   "outputs": [
    {
     "name": "stdout",
     "output_type": "stream",
     "text": [
      "<b>História dos Agentes Especiais</b>\n"
     ]
    }
   ],
   "source": [
    "print(soup.p.b)"
   ]
  },
  {
   "cell_type": "markdown",
   "id": "eb205546",
   "metadata": {},
   "source": [
    "##### 4 - Busca e Extração de Hierarquia da Página Web"
   ]
  },
  {
   "cell_type": "code",
   "execution_count": 25,
   "id": "2e6a8780",
   "metadata": {},
   "outputs": [
    {
     "name": "stdout",
     "output_type": "stream",
     "text": [
      "['Era uma vez três agentes especiais; e seus nomes eram\\n', <a class=\"agente\" href=\"http://www.exemplo.com/james\" id=\"link1\">James</a>, ',\\n', <a class=\"agente\" href=\"http://www.exemplo.com/julio\" id=\"link2\">Julio</a>, ' e\\n', <a class=\"agente\" href=\"http://www.exemplo.com/jucimar\" id=\"link3\">Jucimar</a>, ';\\ne eles viviam em Londres, na Inglaterra.']\n"
     ]
    }
   ],
   "source": [
    "print(list(soup.find('p', 'historia').children))"
   ]
  },
  {
   "cell_type": "code",
   "execution_count": 26,
   "id": "749d90f4",
   "metadata": {},
   "outputs": [
    {
     "name": "stdout",
     "output_type": "stream",
     "text": [
      "['Era uma vez três agentes especiais; e seus nomes eram\\n', <a class=\"agente\" href=\"http://www.exemplo.com/james\" id=\"link1\">James</a>, ',\\n', <a class=\"agente\" href=\"http://www.exemplo.com/julio\" id=\"link2\">Julio</a>, ' e\\n', <a class=\"agente\" href=\"http://www.exemplo.com/jucimar\" id=\"link3\">Jucimar</a>, ';\\ne eles viviam em Londres, na Inglaterra.']\n"
     ]
    }
   ],
   "source": [
    "print(list(soup.find('p', 'historia').contents))"
   ]
  },
  {
   "cell_type": "code",
   "execution_count": 27,
   "id": "62957c5a",
   "metadata": {},
   "outputs": [
    {
     "name": "stdout",
     "output_type": "stream",
     "text": [
      "['Era uma vez três agentes especiais; e seus nomes eram\\n', <a class=\"agente\" href=\"http://www.exemplo.com/james\" id=\"link1\">James</a>, 'James', ',\\n', <a class=\"agente\" href=\"http://www.exemplo.com/julio\" id=\"link2\">Julio</a>, 'Julio', ' e\\n', <a class=\"agente\" href=\"http://www.exemplo.com/jucimar\" id=\"link3\">Jucimar</a>, 'Jucimar', ';\\ne eles viviam em Londres, na Inglaterra.']\n"
     ]
    }
   ],
   "source": [
    "print(list(soup.find('p', 'historia').descendants))"
   ]
  },
  {
   "cell_type": "code",
   "execution_count": 29,
   "id": "fa4ca7dc",
   "metadata": {},
   "outputs": [
    {
     "name": "stdout",
     "output_type": "stream",
     "text": [
      "[None, 'a', None, 'a', None, 'a', None]\n"
     ]
    }
   ],
   "source": [
    "print([a.name for a in soup.find('p', 'historia').children])"
   ]
  },
  {
   "cell_type": "code",
   "execution_count": 32,
   "id": "10b310ad",
   "metadata": {},
   "outputs": [
    {
     "name": "stdout",
     "output_type": "stream",
     "text": [
      "[None, 'a', None, None, 'a', None, None, 'a', None, None]\n"
     ]
    }
   ],
   "source": [
    "print([a.name for a in soup.find('p', 'historia').descendants])"
   ]
  },
  {
   "cell_type": "code",
   "execution_count": 33,
   "id": "697ba461",
   "metadata": {},
   "outputs": [
    {
     "name": "stdout",
     "output_type": "stream",
     "text": [
      "[{'tag': 'a', 'text': 'James', 'class': ['agente']}, {'tag': 'a', 'text': 'Julio', 'class': ['agente']}, {'tag': 'a', 'text': 'Jucimar', 'class': ['agente']}]\n"
     ]
    }
   ],
   "source": [
    "print([{'tag': a.name, 'text': a.text, 'class': a.get('class')} \n",
    "       for a in soup.find('p','historia').children if a.name != None])"
   ]
  },
  {
   "cell_type": "code",
   "execution_count": 35,
   "id": "6a5af4b3",
   "metadata": {},
   "outputs": [
    {
     "name": "stdout",
     "output_type": "stream",
     "text": [
      "<a class=\"agente\" href=\"http://www.exemplo.com/james\" id=\"link1\">James</a>\n"
     ]
    }
   ],
   "source": [
    "print(soup.find('p', 'historia').findChild())"
   ]
  },
  {
   "cell_type": "code",
   "execution_count": 36,
   "id": "64b4531b",
   "metadata": {},
   "outputs": [
    {
     "name": "stdout",
     "output_type": "stream",
     "text": [
      "[<a class=\"agente\" href=\"http://www.exemplo.com/james\" id=\"link1\">James</a>, <a class=\"agente\" href=\"http://www.exemplo.com/julio\" id=\"link2\">Julio</a>, <a class=\"agente\" href=\"http://www.exemplo.com/jucimar\" id=\"link3\">Jucimar</a>]\n"
     ]
    }
   ],
   "source": [
    "print(soup.find('p', 'historia').findChildren())"
   ]
  },
  {
   "cell_type": "code",
   "execution_count": 40,
   "id": "af9605af",
   "metadata": {},
   "outputs": [
    {
     "name": "stdout",
     "output_type": "stream",
     "text": [
      "<p class=\"historia\">Era uma vez três agentes especiais; e seus nomes eram\n",
      "<a class=\"agente\" href=\"http://www.exemplo.com/james\" id=\"link1\">James</a>,\n",
      "<a class=\"agente\" href=\"http://www.exemplo.com/julio\" id=\"link2\">Julio</a> e\n",
      "<a class=\"agente\" href=\"http://www.exemplo.com/jucimar\" id=\"link3\">Jucimar</a>;\n",
      "e eles viviam em Londres, na Inglaterra.</p>\n"
     ]
    }
   ],
   "source": [
    "print(soup.find('a', 'agente').parent)"
   ]
  },
  {
   "cell_type": "markdown",
   "id": "5c997189",
   "metadata": {},
   "source": [
    "##### 5 - Navegando Pelas Tags"
   ]
  },
  {
   "cell_type": "code",
   "execution_count": 42,
   "id": "cf369476",
   "metadata": {
    "scrolled": true
   },
   "outputs": [
    {
     "name": "stdout",
     "output_type": "stream",
     "text": [
      "<html><head><title>Os Agentes Especiais</title></head>\n",
      "<body>\n",
      "<p class=\"title\"><b>História dos Agentes Especiais</b></p>\n",
      "<p class=\"historia\">Era uma vez três agentes especiais; e seus nomes eram\n",
      "<a class=\"agente\" href=\"http://www.exemplo.com/james\" id=\"link1\">James</a>,\n",
      "<a class=\"agente\" href=\"http://www.exemplo.com/julio\" id=\"link2\">Julio</a> e\n",
      "<a class=\"agente\" href=\"http://www.exemplo.com/jucimar\" id=\"link3\">Jucimar</a>;\n",
      "e eles viviam em Londres, na Inglaterra.</p>\n",
      "<p class=\"historia\">...</p>\n",
      "<h1>Agentes Especiais</h1>\n",
      "<ul>\n",
      "<li data-id=\"10784\">James Bond, 007: Agente especial para atividades internacionais.</li>\n",
      "<li data-id=\"97865\">Julio Verner, 006: Agente especial contra o. terrorismo.</li>\n",
      "<li data-id=\"45732\">Jucimar Moraes, 005: Agente especial para proteger a rainha.</li>\n",
      "</ul>\n",
      "</body>\n",
      "</html>\n"
     ]
    }
   ],
   "source": [
    "print(soup)"
   ]
  },
  {
   "cell_type": "code",
   "execution_count": 45,
   "id": "375fa784",
   "metadata": {},
   "outputs": [
    {
     "name": "stdout",
     "output_type": "stream",
     "text": [
      "Era uma vez três agentes especiais; e seus nomes eram\n",
      "\n"
     ]
    }
   ],
   "source": [
    "print(soup.find('p','historia').next)"
   ]
  },
  {
   "cell_type": "code",
   "execution_count": 43,
   "id": "4eea3417",
   "metadata": {},
   "outputs": [
    {
     "name": "stdout",
     "output_type": "stream",
     "text": [
      "<a class=\"agente\" href=\"http://www.exemplo.com/james\" id=\"link1\">James</a>\n"
     ]
    }
   ],
   "source": [
    "print(soup.find('p','historia').next.next)"
   ]
  },
  {
   "cell_type": "code",
   "execution_count": 44,
   "id": "5ef805e7",
   "metadata": {},
   "outputs": [
    {
     "name": "stdout",
     "output_type": "stream",
     "text": [
      "<generator object PageElement.next_elements at 0x0000016B0B197C10>\n"
     ]
    }
   ],
   "source": [
    "print(soup.find('p','historia').next_elements)"
   ]
  },
  {
   "cell_type": "code",
   "execution_count": 47,
   "id": "f8a6ad34",
   "metadata": {},
   "outputs": [
    {
     "name": "stdout",
     "output_type": "stream",
     "text": [
      "História dos Agentes Especiais\n"
     ]
    }
   ],
   "source": [
    "print(soup.find('p','historia').previous.previous)"
   ]
  },
  {
   "cell_type": "code",
   "execution_count": 49,
   "id": "283b4724",
   "metadata": {},
   "outputs": [
    {
     "name": "stdout",
     "output_type": "stream",
     "text": [
      "<h1>Agentes Especiais</h1>\n"
     ]
    }
   ],
   "source": [
    "print(soup.find('p','historia').find_next('h1'))"
   ]
  },
  {
   "cell_type": "code",
   "execution_count": 51,
   "id": "0485a0e1",
   "metadata": {},
   "outputs": [
    {
     "name": "stdout",
     "output_type": "stream",
     "text": [
      "[<li data-id=\"10784\">James Bond, 007: Agente especial para atividades internacionais.</li>, <li data-id=\"97865\">Julio Verner, 006: Agente especial contra o. terrorismo.</li>]\n"
     ]
    }
   ],
   "source": [
    "print(soup.find('p','historia').find_all_next('li', limit = 2))"
   ]
  },
  {
   "cell_type": "code",
   "execution_count": 52,
   "id": "e5e732d9",
   "metadata": {},
   "outputs": [
    {
     "name": "stdout",
     "output_type": "stream",
     "text": [
      "['p', 'p', 'h1', 'ul']\n"
     ]
    }
   ],
   "source": [
    "title = [ele.name for ele in soup.find('p', 'title').next_siblings]\n",
    "print(list(filter(None, title)))"
   ]
  },
  {
   "cell_type": "code",
   "execution_count": 53,
   "id": "e5fafe4c",
   "metadata": {},
   "outputs": [
    {
     "data": {
      "text/plain": [
       "[None, 'p', None, 'p', None, 'h1', None, 'ul', None]"
      ]
     },
     "execution_count": 53,
     "metadata": {},
     "output_type": "execute_result"
    }
   ],
   "source": [
    "title"
   ]
  },
  {
   "cell_type": "markdown",
   "id": "a55252d3",
   "metadata": {},
   "source": [
    "##### 6 - Usando Seletor CSS e Cominando Elementos"
   ]
  },
  {
   "cell_type": "code",
   "execution_count": 54,
   "id": "ff125e04",
   "metadata": {},
   "outputs": [
    {
     "name": "stdout",
     "output_type": "stream",
     "text": [
      "<html><head><title>Os Agentes Especiais</title></head>\n",
      "<body>\n",
      "<p class=\"title\"><b>História dos Agentes Especiais</b></p>\n",
      "<p class=\"historia\">Era uma vez três agentes especiais; e seus nomes eram\n",
      "<a class=\"agente\" href=\"http://www.exemplo.com/james\" id=\"link1\">James</a>,\n",
      "<a class=\"agente\" href=\"http://www.exemplo.com/julio\" id=\"link2\">Julio</a> e\n",
      "<a class=\"agente\" href=\"http://www.exemplo.com/jucimar\" id=\"link3\">Jucimar</a>;\n",
      "e eles viviam em Londres, na Inglaterra.</p>\n",
      "<p class=\"historia\">...</p>\n",
      "<h1>Agentes Especiais</h1>\n",
      "<ul>\n",
      "<li data-id=\"10784\">James Bond, 007: Agente especial para atividades internacionais.</li>\n",
      "<li data-id=\"97865\">Julio Verner, 006: Agente especial contra o. terrorismo.</li>\n",
      "<li data-id=\"45732\">Jucimar Moraes, 005: Agente especial para proteger a rainha.</li>\n",
      "</ul>\n",
      "</body>\n",
      "</html>\n"
     ]
    }
   ],
   "source": [
    "print(soup)"
   ]
  },
  {
   "cell_type": "code",
   "execution_count": 55,
   "id": "6ca93180",
   "metadata": {},
   "outputs": [
    {
     "name": "stdout",
     "output_type": "stream",
     "text": [
      "[<li data-id=\"10784\">James Bond, 007: Agente especial para atividades internacionais.</li>, <li data-id=\"97865\">Julio Verner, 006: Agente especial contra o. terrorismo.</li>, <li data-id=\"45732\">Jucimar Moraes, 005: Agente especial para proteger a rainha.</li>]\n"
     ]
    }
   ],
   "source": [
    "print(soup.select('li[data-id]'))"
   ]
  },
  {
   "cell_type": "code",
   "execution_count": 56,
   "id": "b5fa4546",
   "metadata": {},
   "outputs": [
    {
     "name": "stdout",
     "output_type": "stream",
     "text": [
      "<li data-id=\"97865\">Julio Verner, 006: Agente especial contra o. terrorismo.</li>\n"
     ]
    }
   ],
   "source": [
    "print(soup.select('li[data-id]')[1])"
   ]
  },
  {
   "cell_type": "code",
   "execution_count": 57,
   "id": "d951a89b",
   "metadata": {},
   "outputs": [
    {
     "name": "stdout",
     "output_type": "stream",
     "text": [
      "[<a class=\"agente\" href=\"http://www.exemplo.com/james\" id=\"link1\">James</a>, <a class=\"agente\" href=\"http://www.exemplo.com/julio\" id=\"link2\">Julio</a>, <a class=\"agente\" href=\"http://www.exemplo.com/jucimar\" id=\"link3\">Jucimar</a>]\n"
     ]
    }
   ],
   "source": [
    "print(soup.select('p.historia > a.agente'))"
   ]
  },
  {
   "cell_type": "code",
   "execution_count": 58,
   "id": "ab01dbb1",
   "metadata": {},
   "outputs": [
    {
     "name": "stdout",
     "output_type": "stream",
     "text": [
      "[<h1>Agentes Especiais</h1>]\n"
     ]
    }
   ],
   "source": [
    "print(soup.select('p.historia + h1'))"
   ]
  }
 ],
 "metadata": {
  "kernelspec": {
   "display_name": "Python 3 (ipykernel)",
   "language": "python",
   "name": "python3"
  },
  "language_info": {
   "codemirror_mode": {
    "name": "ipython",
    "version": 3
   },
   "file_extension": ".py",
   "mimetype": "text/x-python",
   "name": "python",
   "nbconvert_exporter": "python",
   "pygments_lexer": "ipython3",
   "version": "3.9.13"
  }
 },
 "nbformat": 4,
 "nbformat_minor": 5
}
